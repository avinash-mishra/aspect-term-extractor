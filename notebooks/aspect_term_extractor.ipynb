{
 "cells": [
  {
   "cell_type": "code",
   "execution_count": 21,
   "metadata": {
    "collapsed": true
   },
   "outputs": [],
   "source": [
    "import pandas as pd\n",
    "from sklearn.externals import joblib\n",
    "from sklearn.feature_extraction.text import CountVectorizer\n",
    "from sklearn.feature_extraction import DictVectorizer\n",
    "from sklearn.linear_model import SGDClassifier\n",
    "from sklearn.multiclass import OneVsRestClassifier\n",
    "from sklearn.naive_bayes import MultinomialNB\n",
    "from sklearn import svm\n",
    "import xml.etree.ElementTree as ET\n",
    "from lxml import etree\n",
    "from scipy.sparse import hstack\n",
    "import numpy as np\n",
    "import warnings\n",
    "\n",
    "from preprocessing.xml_2_dataframe import Xml2DataFrame\n",
    "from preprocessing.pos_tagger import POSTagger\n"
   ]
  },
  {
   "cell_type": "code",
   "execution_count": 22,
   "metadata": {},
   "outputs": [],
   "source": [
    "path_train = './data/Laptops_Train_v2.xml'\n",
    "path_test = r'./data/Laptops_Test_Gold.xml'\n",
    "new_test_path = r'./data/test.xml'\n"
   ]
  },
  {
   "cell_type": "code",
   "execution_count": 23,
   "metadata": {
    "collapsed": true
   },
   "outputs": [
    {
     "data": {
      "text/html": [
       "<div>\n",
       "<style scoped>\n",
       "    .dataframe tbody tr th:only-of-type {\n",
       "        vertical-align: middle;\n",
       "    }\n",
       "\n",
       "    .dataframe tbody tr th {\n",
       "        vertical-align: top;\n",
       "    }\n",
       "\n",
       "    .dataframe thead th {\n",
       "        text-align: right;\n",
       "    }\n",
       "</style>\n",
       "<table border=\"1\" class=\"dataframe\">\n",
       "  <thead>\n",
       "    <tr style=\"text-align: right;\">\n",
       "      <th></th>\n",
       "      <th>id</th>\n",
       "      <th>text</th>\n",
       "      <th>aspect_info</th>\n",
       "    </tr>\n",
       "  </thead>\n",
       "  <tbody>\n",
       "    <tr>\n",
       "      <th>0</th>\n",
       "      <td>2339</td>\n",
       "      <td>i charge it at night and skip taking the cord ...</td>\n",
       "      <td>[{'to': '45', 'term': 'cord', 'from': '41', 'p...</td>\n",
       "    </tr>\n",
       "    <tr>\n",
       "      <th>1</th>\n",
       "      <td>812</td>\n",
       "      <td>i bought a hp pavilion dv4-1222nr laptop and h...</td>\n",
       "      <td>None</td>\n",
       "    </tr>\n",
       "    <tr>\n",
       "      <th>2</th>\n",
       "      <td>1316</td>\n",
       "      <td>the tech guy then said the service center does...</td>\n",
       "      <td>[{'to': '41', 'term': 'service center', 'from'...</td>\n",
       "    </tr>\n",
       "    <tr>\n",
       "      <th>3</th>\n",
       "      <td>2328</td>\n",
       "      <td>i investigated netbooks and saw the toshiba nb...</td>\n",
       "      <td>None</td>\n",
       "    </tr>\n",
       "    <tr>\n",
       "      <th>4</th>\n",
       "      <td>2193</td>\n",
       "      <td>the other day i had a presentation to do for a...</td>\n",
       "      <td>None</td>\n",
       "    </tr>\n",
       "  </tbody>\n",
       "</table>\n",
       "</div>"
      ],
      "text/plain": [
       "<div>\n",
       "<style scoped>\n",
       "    .dataframe tbody tr th:only-of-type {\n",
       "        vertical-align: middle;\n",
       "    }\n",
       "\n",
       "    .dataframe tbody tr th {\n",
       "        vertical-align: top;\n",
       "    }\n",
       "\n",
       "    .dataframe thead th {\n",
       "        text-align: right;\n",
       "    }\n",
       "</style>\n",
       "<table border=\"1\" class=\"dataframe\">\n",
       "  <thead>\n",
       "    <tr style=\"text-align: right;\">\n",
       "      <th></th>\n",
       "      <th>id</th>\n",
       "      <th>text</th>\n",
       "      <th>aspect_info</th>\n",
       "    </tr>\n",
       "  </thead>\n",
       "  <tbody>\n",
       "    <tr>\n",
       "      <th>0</th>\n",
       "      <td>2339</td>\n",
       "      <td>i charge it at night and skip taking the cord ...</td>\n",
       "      <td>[{'to': '45', 'term': 'cord', 'from': '41', 'p...</td>\n",
       "    </tr>\n",
       "    <tr>\n",
       "      <th>1</th>\n",
       "      <td>812</td>\n",
       "      <td>i bought a hp pavilion dv4-1222nr laptop and h...</td>\n",
       "      <td>None</td>\n",
       "    </tr>\n",
       "    <tr>\n",
       "      <th>2</th>\n",
       "      <td>1316</td>\n",
       "      <td>the tech guy then said the service center does...</td>\n",
       "      <td>[{'to': '41', 'term': 'service center', 'from'...</td>\n",
       "    </tr>\n",
       "    <tr>\n",
       "      <th>3</th>\n",
       "      <td>2328</td>\n",
       "      <td>i investigated netbooks and saw the toshiba nb...</td>\n",
       "      <td>None</td>\n",
       "    </tr>\n",
       "    <tr>\n",
       "      <th>4</th>\n",
       "      <td>2193</td>\n",
       "      <td>the other day i had a presentation to do for a...</td>\n",
       "      <td>None</td>\n",
       "    </tr>\n",
       "  </tbody>\n",
       "</table>\n",
       "</div>"
      ]
     },
     "execution_count": 23,
     "metadata": {},
     "output_type": "execute_result"
    }
   ],
   "source": [
    "# xml parser\n",
    "def get_xml_data(path):\n",
    "    xml2df = Xml2DataFrame()\n",
    "    xml_dataframe = xml2df.process_data(path)\n",
    "    return xml_dataframe\n",
    "\n",
    "\n",
    "df = get_xml_data(path_train)\n",
    "df.head()"
   ]
  },
  {
   "cell_type": "code",
   "execution_count": 24,
   "metadata": {},
   "outputs": [
    {
     "name": "stdout",
     "output_type": "stream",
     "text": [
      "0    i charge it at night and skip taking the cord ...\n1    i bought a hp pavilion dv4-1222nr laptop and h...\n2    the tech guy then said the service center does...\n3    i investigated netbooks and saw the toshiba nb...\n4    the other day i had a presentation to do for a...\nName: text, dtype: object\n=============================\n0    [{'to': '45', 'term': 'cord', 'from': '41', 'p...\n1                                                 None\n2    [{'to': '41', 'term': 'service center', 'from'...\n3                                                 None\n4                                                 None\nName: aspect_info, dtype: object\n"
     ]
    }
   ],
   "source": [
    "# Making list to train\n",
    "train_dataframe = get_xml_data(path_train)\n",
    "# print(train_dataframe.head())\n",
    "train_text_list = train_dataframe['text']\n",
    "train_aspects_list = train_dataframe['aspect_info']\n",
    "print(train_text_list.head())\n",
    "print(\"=============================\")\n",
    "print(train_aspects_list.head())"
   ]
  },
  {
   "cell_type": "code",
   "execution_count": 45,
   "metadata": {},
   "outputs": [],
   "source": [
    "# POSTag function wrapper\n",
    "def pos_tag(review):\n",
    "    tagged_text_list = []\n",
    "    pos_tagger = POSTagger()\n",
    "    for text in review:\n",
    "        tagged_text_list.append(pos_tagger.pos_tagger(text=text))\n",
    "    return tagged_text_list\n",
    "\n",
    "\n",
    "# POSTag filtering of noun,adjective,verb,adverb\n",
    "def filter_tag(tagged_reviews):\n",
    "    filtered_list = []\n",
    "    pos_tagger = POSTagger()\n",
    "    for tagged_review in tagged_reviews:\n",
    "        filtered_list.append(pos_tagger.filter_pos_tag(tagged_review))\n",
    "    return filtered_list"
   ]
  },
  {
   "cell_type": "code",
   "execution_count": 46,
   "metadata": {},
   "outputs": [
    {
     "name": "stdout",
     "output_type": "stream",
     "text": [
      "[[('i', 'JJ'), ('charge', 'NN'), ('it', 'PRP'), ('at', 'IN'), ('night', 'NN'), ('and', 'CC'), ('skip', 'NN'), ('taking', 'VBG'), ('the', 'DT'), ('cord', 'NN'), ('with', 'IN'), ('me', 'PRP'), ('because', 'IN'), ('of', 'IN'), ('the', 'DT'), ('good', 'JJ'), ('battery', 'NN'), ('life', 'NN'), ('.', '.')], [('i', 'NN'), ('bought', 'VBD'), ('a', 'DT'), ('hp', 'JJ'), ('pavilion', 'NN'), ('dv4-1222nr', 'JJ'), ('laptop', 'NN'), ('and', 'CC'), ('have', 'VBP'), ('had', 'VBN'), ('so', 'RB'), ('many', 'JJ'), ('problems', 'NNS'), ('with', 'IN'), ('the', 'DT'), ('computer', 'NN'), ('.', '.')], [('the', 'DT'), ('tech', 'NN'), ('guy', 'NN'), ('then', 'RB'), ('said', 'VBD'), ('the', 'DT'), ('service', 'NN'), ('center', 'NN'), ('does', 'VBZ'), ('not', 'RB'), ('do', 'VB'), ('1-to-1', 'JJ'), ('exchange', 'NN'), ('and', 'CC'), ('i', 'NNS'), ('have', 'VBP'), ('to', 'TO'), ('direct', 'VB'), ('my', 'PRP$'), ('concern', 'NN'), ('to', 'TO'), ('the', 'DT'), ('``', '``'), ('sales', 'NNS'), (\"''\", \"''\"), ('team', 'NN'), (',', ','), ('which', 'WDT'), ('is', 'VBZ'), ('the', 'DT'), ('retail', 'JJ'), ('shop', 'NN'), ('which', 'WDT'), ('i', 'NN'), ('bought', 'VBD'), ('my', 'PRP$'), ('netbook', 'NN'), ('from', 'IN'), ('.', '.')], [('i', 'NN'), ('investigated', 'VBD'), ('netbooks', 'NNS'), ('and', 'CC'), ('saw', 'VBD'), ('the', 'DT'), ('toshiba', 'JJ'), ('nb305-n410bl', 'NN'), ('.', '.')], [('the', 'DT'), ('other', 'JJ'), ('day', 'NN'), ('i', 'VB'), ('had', 'VBD'), ('a', 'DT'), ('presentation', 'NN'), ('to', 'TO'), ('do', 'VB'), ('for', 'IN'), ('a', 'DT'), ('seminar', 'NN'), ('at', 'IN'), ('a', 'DT'), ('large', 'JJ'), ('conference', 'NN'), ('in', 'IN'), ('town-', 'JJ'), ('lots', 'NNS'), ('of', 'IN'), ('people', 'NNS'), (',', ','), ('little', 'JJ'), ('time', 'NN'), ('to', 'TO'), ('prep', 'VB'), ('and', 'CC'), ('have', 'VB'), ('to', 'TO'), ('set', 'VB'), ('up', 'RP'), ('a', 'DT'), ('computer', 'NN'), ('to', 'TO'), ('a', 'DT'), ('projector', 'NN'), (',', ','), ('etc', 'FW'), ('.', '.')]]\n"
     ]
    }
   ],
   "source": [
    "# tag POS\n",
    "# tagged_text_list_train = pos_tag(train_text_list)\n",
    "# joblib.dump(tagged_text_list_train, 'tagged_text_list_train.pkl')\n",
    "tagged_text_list_train = joblib.load('tagged_text_list_train.pkl')\n",
    "print(tagged_text_list_train[:5])"
   ]
  },
  {
   "cell_type": "code",
   "execution_count": 50,
   "metadata": {},
   "outputs": [
    {
     "name": "stdout",
     "output_type": "stream",
     "text": [
      "[['i', 'charge', 'night', 'skip', 'taking', 'cord', 'good', 'battery', 'life'], ['i', 'bought', 'hp', 'pavilion', 'dv4-1222nr', 'laptop', 'have', 'had', 'so', 'many', 'problems', 'computer'], ['tech', 'guy', 'then', 'said', 'service', 'center', 'does', 'not', 'do', '1-to-1', 'exchange', 'i', 'have', 'direct', 'concern', 'sales', 'team', 'is', 'retail', 'shop', 'i', 'bought', 'netbook'], ['i', 'investigated', 'netbooks', 'saw', 'toshiba', 'nb305-n410bl'], ['other', 'day', 'i', 'had', 'presentation', 'do', 'seminar', 'large', 'conference', 'town-', 'lots', 'people', 'little', 'time', 'prep', 'have', 'set', 'computer', 'projector']]\n"
     ]
    }
   ],
   "source": [
    "# train list after filtering\n",
    "final_train_text_list = filter_tag(tagged_text_list_train)\n",
    "\n",
    "print(final_train_text_list[:5])"
   ]
  },
  {
   "cell_type": "code",
   "execution_count": null,
   "metadata": {},
   "outputs": [],
   "source": []
  }
 ],
 "metadata": {
  "kernelspec": {
   "display_name": "Python 2",
   "language": "python",
   "name": "python2"
  },
  "language_info": {
   "codemirror_mode": {
    "name": "ipython",
    "version": 2
   },
   "file_extension": ".py",
   "mimetype": "text/x-python",
   "name": "python",
   "nbconvert_exporter": "python",
   "pygments_lexer": "ipython2",
   "version": "2.7.6"
  }
 },
 "nbformat": 4,
 "nbformat_minor": 0
}
