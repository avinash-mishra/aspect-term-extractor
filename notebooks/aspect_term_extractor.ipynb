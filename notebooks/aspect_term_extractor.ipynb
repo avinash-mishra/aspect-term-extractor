{
 "cells": [
  {
   "cell_type": "code",
   "execution_count": 1,
   "metadata": {
    "collapsed": true
   },
   "outputs": [],
   "source": [
    "import pandas as pd\n",
    "from sklearn.externals import joblib\n",
    "from sklearn.feature_extraction.text import CountVectorizer\n",
    "from sklearn.feature_extraction import DictVectorizer\n",
    "from sklearn.linear_model import SGDClassifier\n",
    "from sklearn.multiclass import OneVsRestClassifier\n",
    "from sklearn.naive_bayes import MultinomialNB\n",
    "from sklearn import svm\n",
    "import xml.etree.ElementTree as ET\n",
    "from lxml import etree\n",
    "from scipy.sparse import hstack\n",
    "import numpy as np\n",
    "import warnings\n",
    "from preprocessing.xml_2_dataframe import Xml2DataFrame\n"
   ]
  },
  {
   "cell_type": "code",
   "execution_count": 2,
   "metadata": {},
   "outputs": [],
   "source": [
    "path_train = r'./data/Laptops_Train_v2.xml'\n",
    "path_test = r'./data/Laptops_Test_Gold.xml'\n",
    "new_test_path = r'./data/test.xml'\n"
   ]
  },
  {
   "cell_type": "code",
   "execution_count": 4,
   "metadata": {},
   "outputs": [
    {
     "name": "stdout",
     "output_type": "stream",
     "text": [
      "/home/avi/github/aspect-term-extractor\n     id                                               text  \\\n0  2339  i charge it at night and skip taking the cord ...   \n1   812  i bought a hp pavilion dv4-1222nr laptop and h...   \n2  1316  the tech guy then said the service center does...   \n3  2328  i investigated netbooks and saw the toshiba nb...   \n4  2193  the other day i had a presentation to do for a...   \n\n                                         aspect_info  \n0  [{'to': '45', 'polarity': 'neutral', 'term': '...  \n1                                               None  \n2  [{'to': '41', 'polarity': 'negative', 'term': ...  \n3                                               None  \n4                                               None  \n"
     ]
    }
   ],
   "source": [
    "# xml parser\n",
    "def get_xml_data(path):\n",
    "    xml2df = Xml2DataFrame()\n",
    "    xml_dataframe = xml2df.process_data(path_train)\n",
    "    xml_dataframe.head()\n",
    "\n",
    "\n",
    "get_list(path_train)"
   ]
  },
  {
   "cell_type": "code",
   "execution_count": null,
   "metadata": {},
   "outputs": [],
   "source": []
  }
 ],
 "metadata": {
  "kernelspec": {
   "display_name": "Python 2",
   "language": "python",
   "name": "python2"
  },
  "language_info": {
   "codemirror_mode": {
    "name": "ipython",
    "version": 2
   },
   "file_extension": ".py",
   "mimetype": "text/x-python",
   "name": "python",
   "nbconvert_exporter": "python",
   "pygments_lexer": "ipython2",
   "version": "2.7.6"
  }
 },
 "nbformat": 4,
 "nbformat_minor": 0
}
